{
 "cells": [
  {
   "cell_type": "code",
   "execution_count": 1,
   "metadata": {},
   "outputs": [],
   "source": [
    "import numpy as np\n",
    "import time\n",
    "\n",
    "def mmult(a,b):\n",
    "    rowa = len(a)\n",
    "    rowb = len(b)\n",
    "    colb = len(b[0])\n",
    "    r = [[0 for i in range(colb)] for j in range(rowa)]\n",
    "    for i in range(rowa):\n",
    "        for j in range(colb):\n",
    "            for k in range(rowb):\n",
    "                r[i][j] = (r[i][j] + (a[i][k]) * (b[k][j])) % 32767\n",
    "    return(r)\n",
    "\n",
    "def generate_edges(graph):\n",
    "    edges = []\n",
    "    for node in graph:\n",
    "        for neighbour in graph[node]:\n",
    "            edges.append((node, neighbour))\n",
    "    return edges\n",
    "\n",
    "def khop_path(graph, k):\n",
    "    lengraph = len(graph)\n",
    "    edges = generate_edges(graph)\n",
    "    ared = np.array(edges)\n",
    "    lened = len(ared)\n",
    "\n",
    "    newedges = [[None for i in range(2)] for i in range(lened)]\n",
    "    for i in range(lened):\n",
    "        newedges[i] = [int(a) for a in ared[i]] \n",
    "\n",
    "    newedges = np.array(newedges)\n",
    "    A = np.array([[0 for i in range(lengraph)] for j in range(lengraph)])\n",
    "    for i in range(lened):\n",
    "        i,j = newedges[i,0], newedges[i,1]\n",
    "        A[i-1,j-1] += 1\n",
    "\n",
    "    r = np.array([[0 for x in range(lengraph)] for y in range(lengraph)])\n",
    "    for i in range(lengraph):\n",
    "        r[i,i] = 1\n",
    "\n",
    "    modk = k % 2\n",
    "    k = k // 2\n",
    "    while True:\n",
    "        if k == 0:\n",
    "            r = mmult(r,A)\n",
    "            result = np.sum(r)\n",
    "            break\n",
    "        if modk == 1:\n",
    "            r = mmult(r,A)\n",
    "        A = mmult(A,A)\n",
    "        modk = k % 2\n",
    "        k = k // 2\n",
    "        if k == 0:\n",
    "            r = mmult(r,A)\n",
    "            result = np.sum(r)\n",
    "            break\n",
    "\n",
    "    return(result)\n",
    "\n",
    "def main(graph, k):\n",
    "    start = time.time()\n",
    "    result = khop_path(graph,k)\n",
    "    end = time.time()\n",
    "    print(\"Output : \" + str(result))\n",
    "    print(\"Time : \" + str(round(end-start,5)) + \" sec\")"
   ]
  },
  {
   "cell_type": "code",
   "execution_count": 2,
   "metadata": {},
   "outputs": [
    {
     "name": "stdout",
     "output_type": "stream",
     "text": [
      "Output : 17\n",
      "Time : 0.00044 sec\n"
     ]
    }
   ],
   "source": [
    "graph = {\"1\" : [\"2\",\"3\"],\n",
    "         \"2\" : [\"3\"],\n",
    "         \"3\" : [\"4\"],\n",
    "         \"4\" : [\"1\",\"5\"],\n",
    "         \"5\" : [\"1\",\"2\"]}\n",
    "\n",
    "main(graph, 3)"
   ]
  },
  {
   "cell_type": "code",
   "execution_count": 3,
   "metadata": {},
   "outputs": [
    {
     "name": "stdout",
     "output_type": "stream",
     "text": [
      "Output : 6\n",
      "Time : 0.0 sec\n"
     ]
    }
   ],
   "source": [
    "graph = {\"1\" : [\"2\",\"3\"],\n",
    "         \"2\" : [\"3\"],\n",
    "         \"3\" : [\"4\"],\n",
    "         \"4\" : [\"1\"]}\n",
    "\n",
    "main(graph, 2)"
   ]
  }
 ],
 "metadata": {
  "kernelspec": {
   "display_name": "Python 3",
   "language": "python",
   "name": "python3"
  },
  "language_info": {
   "codemirror_mode": {
    "name": "ipython",
    "version": 3
   },
   "file_extension": ".py",
   "mimetype": "text/x-python",
   "name": "python",
   "nbconvert_exporter": "python",
   "pygments_lexer": "ipython3",
   "version": "3.7.1"
  }
 },
 "nbformat": 4,
 "nbformat_minor": 2
}
