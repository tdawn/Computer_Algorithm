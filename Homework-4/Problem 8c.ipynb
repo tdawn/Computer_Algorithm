{
 "cells": [
  {
   "cell_type": "code",
   "execution_count": 131,
   "metadata": {
    "scrolled": false
   },
   "outputs": [
    {
     "data": {
      "text/plain": [
       "['00000',\n",
       " '00001',\n",
       " '00010',\n",
       " '00011',\n",
       " '00100',\n",
       " '00101',\n",
       " '00110',\n",
       " '00111',\n",
       " '01000',\n",
       " '01001',\n",
       " '01010',\n",
       " '01011',\n",
       " '01100',\n",
       " '01101',\n",
       " '01110',\n",
       " '01111',\n",
       " '10000',\n",
       " '10001',\n",
       " '10010',\n",
       " '10011',\n",
       " '10100',\n",
       " '10101',\n",
       " '10110',\n",
       " '10111',\n",
       " '11000',\n",
       " '11001',\n",
       " '11010',\n",
       " '11011',\n",
       " '11100',\n",
       " '11101',\n",
       " '11110',\n",
       " '11111']"
      ]
     },
     "execution_count": 131,
     "metadata": {},
     "output_type": "execute_result"
    }
   ],
   "source": [
    "import numpy as np\n",
    "\n",
    "n = 32\n",
    "rangen = range(n)\n",
    "ind = np.array(rangen).tolist()\n",
    "index = [[x] for x in ind]\n",
    "code = [[None for i in range(1)] for j in rangen]\n",
    "priority = [1 for i in rangen]\n",
    "\n",
    "while (len(priority) > 1):\n",
    "    merge_priority = priority[0] + priority[1]\n",
    "    len0 = len(index[0])\n",
    "    len1 = len(index[1])\n",
    "    if len0 == 1:\n",
    "        code[index[0][0]].append(0)\n",
    "    elif len0 > 1:\n",
    "        for i in range(len0):\n",
    "            code[index[0][i]].append(0)\n",
    "    if len1 == 1:\n",
    "        code[index[1][0]].append(1)\n",
    "    elif len1 > 1:\n",
    "        for i in range(len1):\n",
    "            code[index[1][i]].append(1)\n",
    "\n",
    "    merge_index = index[0]\n",
    "    merge_index.extend(index[1])\n",
    "    priority.append(merge_priority)\n",
    "    index.append(merge_index)\n",
    "\n",
    "    priority = np.delete(priority,[0,1]).tolist()\n",
    "    index = np.delete(index,[0,1]).tolist()\n",
    "\n",
    "newcode = [None] * n\n",
    "for i in range(n):\n",
    "    code[i].reverse()\n",
    "    newcode[i] = str(''.join(map(str, code[i][:len(code[i])-1])))\n",
    "    \n",
    "newcode"
   ]
  }
 ],
 "metadata": {
  "kernelspec": {
   "display_name": "Python 3",
   "language": "python",
   "name": "python3"
  },
  "language_info": {
   "codemirror_mode": {
    "name": "ipython",
    "version": 3
   },
   "file_extension": ".py",
   "mimetype": "text/x-python",
   "name": "python",
   "nbconvert_exporter": "python",
   "pygments_lexer": "ipython3",
   "version": "3.6.5"
  }
 },
 "nbformat": 4,
 "nbformat_minor": 2
}
