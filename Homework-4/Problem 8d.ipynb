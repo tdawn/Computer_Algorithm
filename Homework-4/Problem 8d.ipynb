{
 "cells": [
  {
   "cell_type": "code",
   "execution_count": 1,
   "metadata": {},
   "outputs": [
    {
     "data": {
      "text/plain": [
       "['000',\n",
       " '001',\n",
       " '002',\n",
       " '010',\n",
       " '011',\n",
       " '012',\n",
       " '020',\n",
       " '021',\n",
       " '022',\n",
       " '100',\n",
       " '101',\n",
       " '102',\n",
       " '110',\n",
       " '111',\n",
       " '112',\n",
       " '120',\n",
       " '121',\n",
       " '122',\n",
       " '200',\n",
       " '201',\n",
       " '202',\n",
       " '210',\n",
       " '211',\n",
       " '212',\n",
       " '220',\n",
       " '221',\n",
       " '222']"
      ]
     },
     "execution_count": 1,
     "metadata": {},
     "output_type": "execute_result"
    }
   ],
   "source": [
    "import numpy as np\n",
    "\n",
    "n = 27\n",
    "rangen = range(n)\n",
    "ind = np.array(rangen).tolist()\n",
    "index = [[x] for x in ind]\n",
    "code = [[None for i in range(1)] for j in rangen]\n",
    "priority = [1 for i in rangen]\n",
    "\n",
    "while (len(priority) > 1):\n",
    "    merge_priority = priority[0] + priority[1] + priority[2]\n",
    "    len0 = len(index[0])\n",
    "    len1 = len(index[1])\n",
    "    len2 = len(index[2])\n",
    "    if len0 == 1:\n",
    "        code[index[0][0]].append(0)\n",
    "    elif len0 > 1:\n",
    "        for i in range(len0):\n",
    "            code[index[0][i]].append(0)\n",
    "    if len1 == 1:\n",
    "        code[index[1][0]].append(1)\n",
    "    elif len1 > 1:\n",
    "        for i in range(len1):\n",
    "            code[index[1][i]].append(1)\n",
    "    if len2 == 1:\n",
    "        code[index[2][0]].append(2)\n",
    "    elif len2 > 1:\n",
    "        for i in range(len2):\n",
    "            code[index[2][i]].append(2)\n",
    "    merge_index = index[0]\n",
    "    merge_index.extend(index[1])\n",
    "    merge_index.extend(index[2])\n",
    "    priority.append(merge_priority)\n",
    "    index.append(merge_index)\n",
    "\n",
    "    priority = np.delete(priority,[0,1,2]).tolist()\n",
    "    index = np.delete(index,[0,1,2]).tolist()\n",
    "\n",
    "newcode = [None] * n\n",
    "for i in range(n):\n",
    "    code[i].reverse()\n",
    "    newcode[i] = str(''.join(map(str, code[i][:len(code[i])-1])))\n",
    "    \n",
    "newcode"
   ]
  }
 ],
 "metadata": {
  "kernelspec": {
   "display_name": "Python 3",
   "language": "python",
   "name": "python3"
  },
  "language_info": {
   "codemirror_mode": {
    "name": "ipython",
    "version": 3
   },
   "file_extension": ".py",
   "mimetype": "text/x-python",
   "name": "python",
   "nbconvert_exporter": "python",
   "pygments_lexer": "ipython3",
   "version": "3.6.5"
  }
 },
 "nbformat": 4,
 "nbformat_minor": 2
}
