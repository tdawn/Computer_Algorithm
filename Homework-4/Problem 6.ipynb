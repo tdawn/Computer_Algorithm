{
 "cells": [
  {
   "cell_type": "code",
   "execution_count": 273,
   "metadata": {
    "scrolled": false
   },
   "outputs": [],
   "source": [
    "import numpy as np\n",
    "import time\n",
    "\n",
    "def heapify(arr, base, n, i): \n",
    "    largest = i \n",
    "    l = 2 * i + 1   \n",
    "    r = 2 * i + 2    \n",
    "    if l < n and arr[i,base] < arr[l,base]: \n",
    "        largest = l \n",
    "    if r < n and arr[largest,base] < arr[r,base]: \n",
    "        largest = r \n",
    "    if largest != i: \n",
    "        arr[i,:],arr[largest,:] = arr[largest,:].copy(),arr[i,:].copy() \n",
    "        heapify(arr, base, n, largest)\n",
    "\n",
    "def heapSort(arr, base): \n",
    "    n = len(arr) \n",
    "    for i in range(n, -1, -1): \n",
    "        heapify(arr, base, n, i) \n",
    "    for i in range(n-1, 0, -1): \n",
    "        arr[i,:], arr[0,:] = arr[0,:].copy(), arr[i,:].copy() \n",
    "        heapify(arr, base, i, 0)\n",
    "\n",
    "def hireCost(a,b,d,intimacy):\n",
    "    heapSort(intimacy,2)\n",
    "    merge_visited = [intimacy[-1,:].tolist()]\n",
    "    cost = 10000 + 10000 - intimacy[-1,2]\n",
    "    i = -2\n",
    "    j = 0\n",
    "    while True:\n",
    "        if i < -d:\n",
    "            break    \n",
    "        if intimacy[i,0] not in np.array(merge_visited)[:,0]:\n",
    "            if intimacy[i,1] not in np.array(merge_visited)[:,1]:\n",
    "                cost += 10000 + 10000 - intimacy[i,2]\n",
    "            else:\n",
    "                cost += 10000 - intimacy[i,2]\n",
    "        else:\n",
    "            if intimacy[i,1] not in np.array(merge_visited)[:,1]:\n",
    "                cost += 10000 - intimacy[i,2]\n",
    "        if j < a:\n",
    "            if j not in intimacy[:,0]:\n",
    "                cost += 10000\n",
    "        if j < b:\n",
    "            if j not in intimacy[:,1]:\n",
    "                cost += 10000\n",
    "\n",
    "        merge_visited.append(intimacy[i,:].tolist())\n",
    "        i -= 1\n",
    "        j += 1\n",
    "\n",
    "    return(cost)\n",
    "\n",
    "def main():\n",
    "    a = int(input(\"Enter the number of men : \"))\n",
    "    b = int(input(\"Enter the number of women : \"))\n",
    "    d = int(input(\"Enter the number of the intimacies : \"))\n",
    "    print(\"Please input the intimacy array, separated by space (man woman intimacy)\")\n",
    "    data = [] \n",
    "    for i in range(0, d): \n",
    "        x = input(\"\") \n",
    "        data.append(x) \n",
    "        b1 = data[i].split(\" \") \n",
    "        data[i] = [int(a1) for a1 in b1] \n",
    "    start = time.time()\n",
    "    result = hireCost(a, b, d, np.array(data))\n",
    "    end = time.time()\n",
    "    print(\"\\n\" + \"===================================\")\n",
    "    print(\"\\n\" + \"Output : \" + \"\\n\" + str(result))\n",
    "    print(\"Time : \" + str(round(end-start,5)) + \" sec\")"
   ]
  },
  {
   "cell_type": "code",
   "execution_count": 274,
   "metadata": {},
   "outputs": [
    {
     "name": "stdout",
     "output_type": "stream",
     "text": [
      "Enter the number of men : 5\n",
      "Enter the number of women : 5\n",
      "Enter the number of the intimacies : 8\n",
      "Please input the intimacy array, separated by space (man woman intimacy)\n",
      "0 0 6590\n",
      "0 1 3073\n",
      "1 3 4573\n",
      "1 3 2149\n",
      "2 2 789\n",
      "3 3 975\n",
      "4 2 204\n",
      "4 3 631\n",
      "\n",
      "===================================\n",
      "\n",
      "Output : \n",
      "83369\n",
      "Time : 0.0 sec\n"
     ]
    }
   ],
   "source": [
    "main()"
   ]
  },
  {
   "cell_type": "code",
   "execution_count": 275,
   "metadata": {},
   "outputs": [
    {
     "name": "stdout",
     "output_type": "stream",
     "text": [
      "Enter the number of men : 5\n",
      "Enter the number of women : 5\n",
      "Enter the number of the intimacies : 10\n",
      "Please input the intimacy array, separated by space (man woman intimacy)\n",
      "0 4 4372\n",
      "2 0 16\n",
      "2 0 146\n",
      "2 4 326\n",
      "2 4 2133\n",
      "2 4 9220\n",
      "3 1 8364\n",
      "3 2 6336\n",
      "3 4 8833\n",
      "4 1 2339\n",
      "\n",
      "===================================\n",
      "\n",
      "Output : \n",
      "60390\n",
      "Time : 0.001 sec\n"
     ]
    }
   ],
   "source": [
    "main()"
   ]
  },
  {
   "cell_type": "code",
   "execution_count": 277,
   "metadata": {},
   "outputs": [
    {
     "name": "stdout",
     "output_type": "stream",
     "text": [
      "Enter the number of men : 5\n",
      "Enter the number of women : 5\n",
      "Enter the number of the intimacies : 8\n",
      "Please input the intimacy array, separated by space (man woman intimacy)\n",
      "4 3 6831\n",
      "1 3 4583\n",
      "0 0 6592\n",
      "0 1 3063\n",
      "3 3 4975\n",
      "1 3 2049\n",
      "4 2 2104\n",
      "2 2 781\n",
      "\n",
      "===================================\n",
      "\n",
      "Output : \n",
      "71071\n",
      "Time : 0.0 sec\n"
     ]
    }
   ],
   "source": [
    "main()"
   ]
  },
  {
   "cell_type": "code",
   "execution_count": 278,
   "metadata": {},
   "outputs": [
    {
     "name": "stdout",
     "output_type": "stream",
     "text": [
      "Enter the number of men : 5\n",
      "Enter the number of women : 5\n",
      "Enter the number of the intimacies : 10\n",
      "Please input the intimacy array, separated by space (man woman intimacy)\n",
      "2 4 9820\n",
      "3 2 6236\n",
      "3 1 8864\n",
      "2 4 8326\n",
      "2 0 5156\n",
      "2 0 1463\n",
      "4 1 2439\n",
      "0 4 4373\n",
      "3 4 8889\n",
      "2 4 3133\n",
      "\n",
      "===================================\n",
      "\n",
      "Output : \n",
      "54223\n",
      "Time : 0.0 sec\n"
     ]
    }
   ],
   "source": [
    "main()"
   ]
  }
 ],
 "metadata": {
  "kernelspec": {
   "display_name": "Python 3",
   "language": "python",
   "name": "python3"
  },
  "language_info": {
   "codemirror_mode": {
    "name": "ipython",
    "version": 3
   },
   "file_extension": ".py",
   "mimetype": "text/x-python",
   "name": "python",
   "nbconvert_exporter": "python",
   "pygments_lexer": "ipython3",
   "version": "3.6.5"
  }
 },
 "nbformat": 4,
 "nbformat_minor": 2
}
