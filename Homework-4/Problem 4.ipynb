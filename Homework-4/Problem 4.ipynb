{
 "cells": [
  {
   "cell_type": "code",
   "execution_count": 1,
   "metadata": {},
   "outputs": [],
   "source": [
    "import time\n",
    "import numpy as np\n",
    "\n",
    "def mmult(a,b):\n",
    "    rowa = len(a)\n",
    "    rowb = len(b)\n",
    "    colb = len(b[0])\n",
    "    r = [[0 for i in range(colb)] for j in range(rowa)]\n",
    "    for i in range(rowa):\n",
    "        for j in range(colb):\n",
    "            for k in range(rowb):\n",
    "                r[i][j] = (r[i][j] + (a[i][k]) * (b[k][j])) % 32767\n",
    "    return(r)\n",
    "\n",
    "def PowerSeq(n,k,X):\n",
    "    lenx = len(X)\n",
    "\n",
    "    A = np.array([[0 for i in range(lenx * 2)] for j in range(lenx * 2)])\n",
    "    A[:lenx,:lenx] = X\n",
    "\n",
    "    i,j = 0,0\n",
    "    while True:\n",
    "        if i == lenx or j == lenx*2:\n",
    "            break\n",
    "        A[i,lenx+j] = 1\n",
    "        A[lenx+i,lenx+j] = 1\n",
    "        i,j = i+1, j+1\n",
    "\n",
    "    r = [[0 for x in range(lenx * 2)] for y in range(lenx * 2)]\n",
    "    r[lenx-1][lenx-1] = 1\n",
    "    for i in (range(lenx * 2)):\n",
    "        r[i][i] = 1\n",
    "\n",
    "    B = A[:,lenx:]\n",
    "    k = k // 2\n",
    "    modk = k % 2\n",
    "    while True:\n",
    "        A = np.array(mmult(A,A)) % 32767\n",
    "        if modk == 1:\n",
    "            r = np.array(mmult(r,A)) % 32767\n",
    "        modk = k % 2\n",
    "        k = k // 2\n",
    "        if k == 0:\n",
    "            r = np.array(mmult(r,A)) % 32767\n",
    "            result = np.array(mmult(r,B)) % 32767 - B\n",
    "            break\n",
    "\n",
    "    return(result[:n,:])\n",
    "\n",
    "def main():\n",
    "    n = int(input(\"Enter the size of matrix : \"))\n",
    "    k = int(input(\"Enter the sequence limit : \"))\n",
    "    print(\"Please input your array\")\n",
    "    data = [] \n",
    "    for i in range(0, n): \n",
    "        x = input(\"\") \n",
    "        data.append(x) \n",
    "        b = data[i].split(\" \") \n",
    "        data[i] = [int(a) for a in b] \n",
    "    print(\"Your array is: \", data)\n",
    "    start = time.time()\n",
    "    result = PowerSeq(n,k,data)\n",
    "    end = time.time()\n",
    "    print(\"\\n\" + \"===================================\")\n",
    "    print(\"\\n\" + \"Output : \" + \"\\n\" + str(result))\n",
    "    print(\"\\n\", \"Time : \" + str(round(end-start,5)) + \" sec\")"
   ]
  },
  {
   "cell_type": "code",
   "execution_count": 2,
   "metadata": {},
   "outputs": [
    {
     "name": "stdout",
     "output_type": "stream",
     "text": [
      "Enter the size of matrix : 3\n",
      "Enter the sequence limit : 4\n",
      "Please input your array\n",
      "1 2 3\n",
      "4 5 6\n",
      "7 8 9\n",
      "Your array is:  [[1, 2, 3], [4, 5, 6], [7, 8, 9]]\n",
      "\n",
      "===================================\n",
      "\n",
      "Output : \n",
      "[[ 8059  9902 11745]\n",
      " [18250 22424 26598]\n",
      " [28441  2179  8684]]\n",
      "\n",
      " Time : 0.03325 sec\n"
     ]
    }
   ],
   "source": [
    "main()"
   ]
  },
  {
   "cell_type": "code",
   "execution_count": 3,
   "metadata": {},
   "outputs": [
    {
     "name": "stdout",
     "output_type": "stream",
     "text": [
      "Enter the size of matrix : 3\n",
      "Enter the sequence limit : 1000\n",
      "Please input your array\n",
      "1 2 3\n",
      "4 5 6\n",
      "7 8 9\n",
      "Your array is:  [[1, 2, 3], [4, 5, 6], [7, 8, 9]]\n",
      "\n",
      "===================================\n",
      "\n",
      "Output : \n",
      "[[20104  6146 24955]\n",
      " [20160 27167  1407]\n",
      " [20216 15421 10626]]\n",
      "\n",
      " Time : 0.0039 sec\n"
     ]
    }
   ],
   "source": [
    "main()"
   ]
  },
  {
   "cell_type": "code",
   "execution_count": 4,
   "metadata": {},
   "outputs": [
    {
     "name": "stdout",
     "output_type": "stream",
     "text": [
      "Enter the size of matrix : 3\n",
      "Enter the sequence limit : 1000000\n",
      "Please input your array\n",
      "1 2 3\n",
      "4 5 6\n",
      "7 8 9\n",
      "Your array is:  [[1, 2, 3], [4, 5, 6], [7, 8, 9]]\n",
      "\n",
      "===================================\n",
      "\n",
      "Output : \n",
      "[[21196 32298 10633]\n",
      " [12922  3234 26313]\n",
      " [ 4648  6937  9226]]\n",
      "\n",
      " Time : 0.00795 sec\n"
     ]
    }
   ],
   "source": [
    "main()"
   ]
  }
 ],
 "metadata": {
  "kernelspec": {
   "display_name": "Python 3",
   "language": "python",
   "name": "python3"
  },
  "language_info": {
   "codemirror_mode": {
    "name": "ipython",
    "version": 3
   },
   "file_extension": ".py",
   "mimetype": "text/x-python",
   "name": "python",
   "nbconvert_exporter": "python",
   "pygments_lexer": "ipython3",
   "version": "3.7.1"
  }
 },
 "nbformat": 4,
 "nbformat_minor": 2
}
