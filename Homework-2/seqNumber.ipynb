{
 "cells": [
  {
   "cell_type": "code",
   "execution_count": 15,
   "metadata": {},
   "outputs": [],
   "source": [
    "import time\n",
    "\n",
    "def SeqNumber(integer):\n",
    "    val = 0\n",
    "    i = 0\n",
    "    while True:\n",
    "        val = val + 10**i\n",
    "        mmod = val % integer\n",
    "#         if(i % 1000 == 0):\n",
    "#             print(i)\n",
    "        if(mmod == 0):\n",
    "            break\n",
    "        i=i+1\n",
    "    return(i+1)\n",
    "\n",
    "def main():\n",
    "    integer = int(input(\"Enter your integer : \"))\n",
    "    start = time.time()\n",
    "    result = SeqNumber(integer)\n",
    "    end = time.time()\n",
    "    print(\"\\n\" + \"Output : \" + str(result) + \" || Time : \" + str(round(end-start,5)) + \" sec\")"
   ]
  },
  {
   "cell_type": "code",
   "execution_count": 16,
   "metadata": {},
   "outputs": [
    {
     "name": "stdout",
     "output_type": "stream",
     "text": [
      "Enter your integer : 3\n",
      "\n",
      "Output : 3 || Time : 0.0 sec\n"
     ]
    }
   ],
   "source": [
    "main()"
   ]
  },
  {
   "cell_type": "code",
   "execution_count": 17,
   "metadata": {},
   "outputs": [
    {
     "name": "stdout",
     "output_type": "stream",
     "text": [
      "Enter your integer : 7\n",
      "\n",
      "Output : 6 || Time : 0.0 sec\n"
     ]
    }
   ],
   "source": [
    "main()"
   ]
  },
  {
   "cell_type": "code",
   "execution_count": 18,
   "metadata": {},
   "outputs": [
    {
     "name": "stdout",
     "output_type": "stream",
     "text": [
      "Enter your integer : 9901\n",
      "\n",
      "Output : 12 || Time : 0.0 sec\n"
     ]
    }
   ],
   "source": [
    "main()"
   ]
  },
  {
   "cell_type": "code",
   "execution_count": 19,
   "metadata": {},
   "outputs": [
    {
     "name": "stdout",
     "output_type": "stream",
     "text": [
      "Enter your integer : 9981\n",
      "\n",
      "Output : 9972 || Time : 0.47772 sec\n"
     ]
    }
   ],
   "source": [
    "main()"
   ]
  },
  {
   "cell_type": "code",
   "execution_count": 20,
   "metadata": {},
   "outputs": [
    {
     "name": "stdout",
     "output_type": "stream",
     "text": [
      "Enter your integer : 9967\n",
      "\n",
      "Output : 9966 || Time : 0.47346 sec\n"
     ]
    }
   ],
   "source": [
    "main()"
   ]
  },
  {
   "cell_type": "code",
   "execution_count": 21,
   "metadata": {},
   "outputs": [
    {
     "name": "stdout",
     "output_type": "stream",
     "text": [
      "Enter your integer : 9949\n",
      "\n",
      "Output : 9948 || Time : 0.48071 sec\n"
     ]
    }
   ],
   "source": [
    "main()"
   ]
  },
  {
   "cell_type": "code",
   "execution_count": null,
   "metadata": {},
   "outputs": [],
   "source": []
  }
 ],
 "metadata": {
  "kernelspec": {
   "display_name": "Python 3",
   "language": "python",
   "name": "python3"
  },
  "language_info": {
   "codemirror_mode": {
    "name": "ipython",
    "version": 3
   },
   "file_extension": ".py",
   "mimetype": "text/x-python",
   "name": "python",
   "nbconvert_exporter": "python",
   "pygments_lexer": "ipython3",
   "version": "3.6.5"
  }
 },
 "nbformat": 4,
 "nbformat_minor": 2
}
