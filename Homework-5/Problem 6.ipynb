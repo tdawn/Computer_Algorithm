{
 "cells": [
  {
   "cell_type": "code",
   "execution_count": 101,
   "metadata": {},
   "outputs": [],
   "source": [
    "import numpy as np\n",
    "import time\n",
    "\n",
    "def disjointCards(n,cards):\n",
    "    g = {}\n",
    "    g.update({\"A\":[99999]})\n",
    "    g.update({\"B\":[99999]})\n",
    "    for i in range(n):\n",
    "        values = list(g.values())\n",
    "        set_values = list(g.values())[0]+list(g.values())[1]\n",
    "        if cards[i][1] in values[0]:\n",
    "            parents1 = \"A\"\n",
    "        elif cards[i][1] in values[1]:\n",
    "            parents1 = \"B\"\n",
    "        else:\n",
    "            parents1 = None\n",
    "\n",
    "        if cards[i][2] in values[0]:\n",
    "            parents2 = \"A\"\n",
    "        elif cards[i][2] in values[1]:\n",
    "            parents2 = \"B\"\n",
    "        else:\n",
    "            parents2 = None\n",
    "\n",
    "        if cards[i][0] == \"?\":\n",
    "            if parents1 == parents2 == None:\n",
    "                print(\"Not yet\")\n",
    "            elif parents1 == parents2 != None:\n",
    "                print(\"Same\")\n",
    "            else:\n",
    "                print(\"Different\")\n",
    "        if cards[i][0] == \"!\":\n",
    "            if parents1 == parents2 == None:\n",
    "                g.setdefault(\"A\",[]).append(cards[i][1])\n",
    "                g.setdefault(\"B\",[]).append(cards[i][2])\n",
    "\n",
    "            elif parents1 == \"A\":\n",
    "                g.setdefault(\"B\",[]).append(cards[i][2])\n",
    "            elif parents1 == \"B\":\n",
    "                g.setdefault(\"A\",[]).append(cards[i][2])\n",
    "\n",
    "            elif parents2 == \"A\":\n",
    "                g.setdefault(\"B\",[]).append(cards[i][1])\n",
    "            elif parents2 == \"B\":\n",
    "                g.setdefault(\"A\",[]).append(cards[i][1])\n",
    "                \n",
    "def main():\n",
    "    n = int(input(\"Enter the number of commands: \"))\n",
    "    print(\"Please input the command, separated by space (!/? card_1 card_2)\")\n",
    "    data = [] \n",
    "    for i in range(0, n): \n",
    "        x = input(\"\") \n",
    "        data.append(x) \n",
    "        b1 = data[i].split(\" \") \n",
    "        data[i] = [a1 for a1 in b1] \n",
    "    print(\"\\n\" + \"===================================\")\n",
    "    start = time.time()\n",
    "    disjointCards(n, np.array(data))\n",
    "    end = time.time()\n",
    "    print(\"Time : \" + str(round(end-start,5)) + \" sec\")"
   ]
  },
  {
   "cell_type": "code",
   "execution_count": 102,
   "metadata": {},
   "outputs": [
    {
     "name": "stdout",
     "output_type": "stream",
     "text": [
      "Enter the number of commands: 5\n",
      "Please input the command, separated by space (!/? card_1 card_2)\n",
      "? 50 100\n",
      "! 50 100\n",
      "? 50 100\n",
      "! 100 70\n",
      "? 70 50\n",
      "\n",
      "===================================\n",
      "Not yet\n",
      "Different\n",
      "Same\n",
      "Time : 0.0 sec\n"
     ]
    }
   ],
   "source": [
    "main()"
   ]
  }
 ],
 "metadata": {
  "kernelspec": {
   "display_name": "Python 3",
   "language": "python",
   "name": "python3"
  },
  "language_info": {
   "codemirror_mode": {
    "name": "ipython",
    "version": 3
   },
   "file_extension": ".py",
   "mimetype": "text/x-python",
   "name": "python",
   "nbconvert_exporter": "python",
   "pygments_lexer": "ipython3",
   "version": "3.7.1"
  }
 },
 "nbformat": 4,
 "nbformat_minor": 2
}
