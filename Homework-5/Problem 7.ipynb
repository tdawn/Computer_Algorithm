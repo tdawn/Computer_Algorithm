{
 "cells": [
  {
   "cell_type": "code",
   "execution_count": 19,
   "metadata": {},
   "outputs": [],
   "source": [
    "import numpy as np\n",
    "import time\n",
    "\n",
    "def connectionCost(n,m,cost):\n",
    "    compare_cost = 0\n",
    "    for i in range(len(cost)):\n",
    "        if compare_cost < cost[i,2]:\n",
    "            compare_cost = cost[i,2]\n",
    "            max_cost_id = i\n",
    "    \n",
    "    merge_visited = [cost[-1,:].tolist()]\n",
    "    total_cost = cost[-1,2]\n",
    "    cost = np.delete(cost,-1,0)\n",
    "    visited_array = list(np.array(merge_visited)[:,0])\n",
    "    visited_array.extend(np.array(merge_visited)[:,1])\n",
    "    set_merge_visited = list(set(np.array(visited_array)))\n",
    "\n",
    "    while True:\n",
    "        compare_cost = 0\n",
    "        delete = []\n",
    "        for i in range(len(cost)):\n",
    "            if cost[i,0] in set_merge_visited and cost[i,1] not in set_merge_visited or cost[i,0] not in set_merge_visited and cost[i,1] in set_merge_visited:\n",
    "                if compare_cost < cost[i,2]:\n",
    "                    compare_cost = cost[i,2]\n",
    "                    candidate = i\n",
    "            elif cost[i,0] in set_merge_visited and cost[i,1] in set_merge_visited:\n",
    "                delete.append(i)\n",
    "        delete.append(candidate)\n",
    "        merge_visited.append(list(cost[candidate,:]))\n",
    "        visited_array.extend(np.array(merge_visited)[:,0])\n",
    "        visited_array.extend(np.array(merge_visited)[:,1])\n",
    "        set_merge_visited = list(set(np.array(visited_array)))\n",
    "        total_cost += cost[candidate,2]\n",
    "        cost = np.delete(cost,delete,0)\n",
    "\n",
    "        if len(set_merge_visited) == n:\n",
    "            break\n",
    "    return total_cost\n",
    "\n",
    "def main():\n",
    "    n = int(input(\"Enter the number of buildings : \"))\n",
    "    m = int(input(\"Enter the number of connections : \"))\n",
    "    print(\"Please input the cost, separated by space (building-A building-B cost)\")\n",
    "    data = [] \n",
    "    for i in range(0, m): \n",
    "        x = input(\"\") \n",
    "        data.append(x) \n",
    "        b1 = data[i].split(\" \") \n",
    "        data[i] = [int(a1) for a1 in b1] \n",
    "    start = time.time()\n",
    "    result = connectionCost(n, m, np.array(data))\n",
    "    end = time.time()\n",
    "    print(\"\\n\" + \"===================================\")\n",
    "    print(\"\\n\" + \"Output : \" + \"\\n\" + str(result))\n",
    "    print(\"Time : \" + str(round(end-start,5)) + \" sec\")"
   ]
  },
  {
   "cell_type": "code",
   "execution_count": 20,
   "metadata": {},
   "outputs": [
    {
     "name": "stdout",
     "output_type": "stream",
     "text": [
      "Enter the number of buildings : 9\n",
      "Enter the number of connections : 14\n",
      "Please input the cost, separated by space (building-A building-B cost)\n",
      "1 2 4\n",
      "1 8 8\n",
      "2 3 8\n",
      "2 8 11\n",
      "3 4 7\n",
      "3 6 4\n",
      "3 9 2\n",
      "4 5 9\n",
      "4 6 14\n",
      "5 6 10\n",
      "6 7 2\n",
      "7 8 1\n",
      "7 9 6\n",
      "8 9 7\n",
      "\n",
      "===================================\n",
      "\n",
      "Output : \n",
      "71\n",
      "Time : 0.001 sec\n"
     ]
    }
   ],
   "source": [
    "main()"
   ]
  }
 ],
 "metadata": {
  "kernelspec": {
   "display_name": "Python 3",
   "language": "python",
   "name": "python3"
  },
  "language_info": {
   "codemirror_mode": {
    "name": "ipython",
    "version": 3
   },
   "file_extension": ".py",
   "mimetype": "text/x-python",
   "name": "python",
   "nbconvert_exporter": "python",
   "pygments_lexer": "ipython3",
   "version": "3.6.5"
  }
 },
 "nbformat": 4,
 "nbformat_minor": 2
}
