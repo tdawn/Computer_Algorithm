{
 "cells": [
  {
   "cell_type": "code",
   "execution_count": 306,
   "metadata": {},
   "outputs": [],
   "source": [
    "import numpy as np\n",
    "import time\n",
    "\n",
    "def path(N, adj):\n",
    "    adj_int = np.array([[None]*N]*N)\n",
    "    for i in range(N):\n",
    "        for j in range(N):\n",
    "            if adj[i,j] == \"*\":\n",
    "                adj_int[i,j] = 999999\n",
    "            else:\n",
    "                adj_int[i,j] = int(adj[i,j])\n",
    "\n",
    "    upd_ind = np.array([[-1]*N]*N)\n",
    "    save_k = np.array([[[None]*(N-2)]*N]*N)\n",
    "    output = [\"(\" + str(int(np.floor(i/5))) + \",\" + str(i%5) + \") : distance = \" for i in range(N**2)]\n",
    "    path = ['']*N**2\n",
    "    for k in range(N):\n",
    "        for i in range(N):\n",
    "            for j in range(N):\n",
    "                upd = adj_int[i,k] + adj_int[k,j]\n",
    "                if upd < adj_int[i,j]:\n",
    "                    adj_int[i,j] = upd  \n",
    "                    path[N*i+j] = path[N*i+j] + \" -> \" + str(k+1)\n",
    "\n",
    "    output = [output[i] + str(adj_int[int(np.floor(i/5)),i%5]) + \", path = \" + str(int(np.floor(i/5))+1) + path[i] + \" -> \" + str(i%5+1) for i in range(N**2)]\n",
    "\n",
    "    print(\"\\n\" + \"===================================\" + \"\\n\")\n",
    "    print(\"Output: \")\n",
    "    for i in range(N**2):\n",
    "        print(output[i])\n",
    "\n",
    "def main():\n",
    "    N = int(input(\"Enter the number of vertices : \"))\n",
    "    print(\"Please input adjacency matrix, separated by space\")\n",
    "    data = [] \n",
    "    for i in range(0, N): \n",
    "        x = str(input(\"\")) \n",
    "        data.append(x) \n",
    "        b1 = data[i].split(\" \")\n",
    "        data[i] = [a1 for a1 in b1]\n",
    "    start = time.time()\n",
    "    path(N, np.array(data))\n",
    "    end = time.time()\n",
    "    print(\"\\n\" + \"Time : \" + str(round(end-start,5)) + \" sec\")"
   ]
  },
  {
   "cell_type": "code",
   "execution_count": 307,
   "metadata": {},
   "outputs": [
    {
     "name": "stdout",
     "output_type": "stream",
     "text": [
      "Enter the number of vertices : 5\n",
      "Please input adjacency matrix, separated by space\n",
      "0 4 2 5 *\n",
      "* 0 1 * 4\n",
      "1 3 0 1 2\n",
      "-2 * * 0 2\n",
      "* -3 3 1 0\n",
      "\n",
      "===================================\n",
      "\n",
      "Output: \n",
      "(0,0) : distance = 0, path = 1 -> 1\n",
      "(0,1) : distance = 1, path = 1 -> 5 -> 2\n",
      "(0,2) : distance = 2, path = 1 -> 3\n",
      "(0,3) : distance = 3, path = 1 -> 3 -> 4\n",
      "(0,4) : distance = 4, path = 1 -> 2 -> 3 -> 5\n",
      "(1,0) : distance = 0, path = 2 -> 3 -> 4 -> 1\n",
      "(1,1) : distance = 0, path = 2 -> 2\n",
      "(1,2) : distance = 1, path = 2 -> 3\n",
      "(1,3) : distance = 2, path = 2 -> 3 -> 4\n",
      "(1,4) : distance = 3, path = 2 -> 3 -> 5\n",
      "(2,0) : distance = -1, path = 3 -> 4 -> 1\n",
      "(2,1) : distance = -1, path = 3 -> 5 -> 2\n",
      "(2,2) : distance = 0, path = 3 -> 3\n",
      "(2,3) : distance = 1, path = 3 -> 4\n",
      "(2,4) : distance = 2, path = 3 -> 5\n",
      "(3,0) : distance = -2, path = 4 -> 1\n",
      "(3,1) : distance = -1, path = 4 -> 1 -> 5 -> 2\n",
      "(3,2) : distance = 0, path = 4 -> 1 -> 3\n",
      "(3,3) : distance = 0, path = 4 -> 4\n",
      "(3,4) : distance = 2, path = 4 -> 5\n",
      "(4,0) : distance = -3, path = 5 -> 2 -> 3 -> 4 -> 1\n",
      "(4,1) : distance = -3, path = 5 -> 2\n",
      "(4,2) : distance = -2, path = 5 -> 2 -> 3\n",
      "(4,3) : distance = -1, path = 5 -> 3 -> 4\n",
      "(4,4) : distance = 0, path = 5 -> 5\n",
      "\n",
      "Time : 0.0 sec\n"
     ]
    }
   ],
   "source": [
    "main()"
   ]
  }
 ],
 "metadata": {
  "kernelspec": {
   "display_name": "Python 3",
   "language": "python",
   "name": "python3"
  },
  "language_info": {
   "codemirror_mode": {
    "name": "ipython",
    "version": 3
   },
   "file_extension": ".py",
   "mimetype": "text/x-python",
   "name": "python",
   "nbconvert_exporter": "python",
   "pygments_lexer": "ipython3",
   "version": "3.6.5"
  }
 },
 "nbformat": 4,
 "nbformat_minor": 2
}
