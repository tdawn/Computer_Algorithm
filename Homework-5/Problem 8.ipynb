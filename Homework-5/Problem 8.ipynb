{
 "cells": [
  {
   "cell_type": "code",
   "execution_count": 309,
   "metadata": {},
   "outputs": [],
   "source": [
    "import numpy as np\n",
    "import time\n",
    "\n",
    "def totalCost(N,A,k,connected):\n",
    "    visited_array = connected[:]\n",
    "    set_merge_visited = list(set(np.hstack(visited_array)))\n",
    "    new_network = np.array([[0]*N]*N)\n",
    "    for i in range(len(connected)):\n",
    "        new_network[connected[i,1],connected[i,0]] = new_network[connected[i,0],connected[i,1]] = A[connected[i,0],connected[i,1]]\n",
    "        A[connected[i,0],connected[i,1]] = A[connected[i,1],connected[i,0]] = 0\n",
    "    new_network\n",
    "\n",
    "    total = 0\n",
    "    while True:\n",
    "        min_cost = 999999\n",
    "        for i in range(N):\n",
    "            if i not in set_merge_visited:\n",
    "                for j in range(len(set_merge_visited)):\n",
    "                    if A[i,set_merge_visited[j]] > 0 and min_cost > A[i,set_merge_visited[j]]:\n",
    "                        min_cost = A[i,set_merge_visited[j]]\n",
    "                        new_i = i\n",
    "                        new_j = set_merge_visited[j]\n",
    "        new_network[new_i,new_j] = new_network[new_j,new_i] = A[new_i,new_j]\n",
    "        total += A[new_i,new_j]\n",
    "        A[new_i,new_j] = A[new_j,new_i] = 0\n",
    "        set_merge_visited.append(new_i)\n",
    "        set_merge_visited = list(set(np.array(set_merge_visited)))\n",
    "\n",
    "        if len(set_merge_visited) == N:\n",
    "            break\n",
    "            \n",
    "    return new_network, total\n",
    "\n",
    "def main():\n",
    "    N = int(input(\"Enter the number of buildings : \"))\n",
    "    print(\"Please input adjacency matrix, separated by space\")\n",
    "    data = [] \n",
    "    for i in range(0, N): \n",
    "        x = input(\"\") \n",
    "        data.append(x) \n",
    "        b1 = data[i].split(\" \") \n",
    "        data[i] = [int(a1) for a1 in b1] \n",
    "    k = int(input(\"Enter the number of buildings that have been connected : \"))\n",
    "    print(\"Please input the connected building\")\n",
    "    data2 = [] \n",
    "    for i in range(0, k): \n",
    "        x = input(\"\") \n",
    "        data2.append(x) \n",
    "        b1 = data2[i].split(\" \") \n",
    "        data2[i] = [int(a1) for a1 in b1] \n",
    "    start = time.time()\n",
    "    result1, result2 = totalCost(N, np.array(data), k, np.array(data2))\n",
    "    end = time.time()\n",
    "    print(\"\\n\" + \"===================================\")\n",
    "    print(\"\\n\" + \"Total Cost : \" + str(result2))\n",
    "    print(\"\\n\" + \"Connection with minimum cost: \" + \"\\n\" + str(result1))\n",
    "    print(\"Time : \" + str(round(end-start,5)) + \" sec\")"
   ]
  },
  {
   "cell_type": "code",
   "execution_count": 310,
   "metadata": {},
   "outputs": [
    {
     "name": "stdout",
     "output_type": "stream",
     "text": [
      "Enter the number of buildings : 10\n",
      "Please input adjacency matrix, separated by space\n",
      "0 4 1 4 0 0 0 0 0 0\n",
      "4 0 5 0 9 9 0 7 0 0\n",
      "1 5 0 3 0 0 0 9 0 0\n",
      "4 0 3 0 0 0 0 10 0 18\n",
      "0 9 0 0 0 2 4 0 6 0\n",
      "0 9 0 0 2 0 2 8 0 0\n",
      "0 0 0 0 4 2 0 9 3 9\n",
      "0 7 9 10 0 8 9 0 0 8\n",
      "0 0 0 0 6 0 3 0 0 9\n",
      "0 0 0 18 0 0 9 8 9 0\n",
      "Enter the number of buildings that have been connected : 2\n",
      "Please input the connected building\n",
      "0 1\n",
      "0 2\n",
      "\n",
      "===================================\n",
      "\n",
      "Total Cost : 33\n",
      "\n",
      "Connection with minimum cost: \n",
      "[[0 4 1 0 0 0 0 0 0 0]\n",
      " [4 0 0 0 0 0 0 7 0 0]\n",
      " [1 0 0 3 0 0 0 0 0 0]\n",
      " [0 0 3 0 0 0 0 0 0 0]\n",
      " [0 0 0 0 0 2 0 0 0 0]\n",
      " [0 0 0 0 2 0 2 8 0 0]\n",
      " [0 0 0 0 0 2 0 0 3 0]\n",
      " [0 7 0 0 0 8 0 0 0 8]\n",
      " [0 0 0 0 0 0 3 0 0 0]\n",
      " [0 0 0 0 0 0 0 8 0 0]]\n",
      "Time : 0.0 sec\n"
     ]
    }
   ],
   "source": [
    "main()"
   ]
  },
  {
   "cell_type": "code",
   "execution_count": 312,
   "metadata": {},
   "outputs": [
    {
     "name": "stdout",
     "output_type": "stream",
     "text": [
      "Enter the number of buildings : 3\n",
      "Please input adjacency matrix, separated by space\n",
      "0 981 600\n",
      "981 0 170\n",
      "600 170 0\n",
      "Enter the number of buildings that have been connected : 1\n",
      "Please input the connected building\n",
      "0 1\n",
      "\n",
      "===================================\n",
      "\n",
      "Total Cost : 170\n",
      "\n",
      "Connection with minimum cost: \n",
      "[[  0 981   0]\n",
      " [981   0 170]\n",
      " [  0 170   0]]\n",
      "Time : 0.0 sec\n"
     ]
    }
   ],
   "source": [
    "main()"
   ]
  }
 ],
 "metadata": {
  "kernelspec": {
   "display_name": "Python 3",
   "language": "python",
   "name": "python3"
  },
  "language_info": {
   "codemirror_mode": {
    "name": "ipython",
    "version": 3
   },
   "file_extension": ".py",
   "mimetype": "text/x-python",
   "name": "python",
   "nbconvert_exporter": "python",
   "pygments_lexer": "ipython3",
   "version": "3.6.5"
  }
 },
 "nbformat": 4,
 "nbformat_minor": 2
}
