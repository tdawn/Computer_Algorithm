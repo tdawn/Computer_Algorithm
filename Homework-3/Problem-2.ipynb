{
 "cells": [
  {
   "cell_type": "code",
   "execution_count": 2,
   "metadata": {},
   "outputs": [],
   "source": [
    "import math\n",
    "import numpy as np\n",
    "import time\n",
    "\n",
    "def mmult(a,b):\n",
    "    rowa = len(a)\n",
    "    rowb = len(b)\n",
    "    colb = len(b[0])\n",
    "    r = [[0 for x in range(rowa)] for y in range(colb)]\n",
    "    for i in range(rowa):\n",
    "        for j in range(colb):\n",
    "            for k in range(rowb):\n",
    "                r[i][j] = (r[i][j] + (a[i][k]) * (b[k][j])) % 100000\n",
    "    return(r)\n",
    "\n",
    "def calcFrac(n):\n",
    "    A = [[0 for x in range(2)] for y in range(2)] \n",
    "    r = [[0 for x in range(2)] for y in range(2)]\n",
    "    A[0][0] = 4\n",
    "    A[0][1] = 13\n",
    "    A[1][0] = 1\n",
    "    A[1][1] = 4\n",
    "    r[0][0] = 1\n",
    "    r[1][1]= 1\n",
    "\n",
    "    modn = n % 2\n",
    "    n = math.floor(n / 2)\n",
    "    while True:\n",
    "        if modn == 1:\n",
    "            r = mmult(r,A)\n",
    "        A = mmult(A,A) \n",
    "        modn = n % 2\n",
    "        n = math.floor(n/2)\n",
    "        if n == 0:\n",
    "            r = mmult(r,A)\n",
    "            break\n",
    "    triv = [0 for x in range(2)]\n",
    "    triv[0]= 1\n",
    "    result = np.matmul(r,triv)\n",
    "    return((2 * result[0] - 1) % 100000)\n",
    "\n",
    "def main():\n",
    "    n = int(input(\"Enter polynomial power : \"))\n",
    "    start = time.time()\n",
    "    result = calcFrac(n)\n",
    "    end = time.time()\n",
    "    print(\"\\n\" + \"Output : \" + str(result) + \" || Time : \" + str(round(end-start,5)) + \" sec\")"
   ]
  },
  {
   "cell_type": "code",
   "execution_count": 10,
   "metadata": {},
   "outputs": [
    {
     "name": "stdout",
     "output_type": "stream",
     "text": [
      "Enter polynomial power : 2\n",
      "\n",
      "Output : 57 || Time : 0.0 sec\n"
     ]
    }
   ],
   "source": [
    "main()"
   ]
  },
  {
   "cell_type": "code",
   "execution_count": 11,
   "metadata": {},
   "outputs": [
    {
     "name": "stdout",
     "output_type": "stream",
     "text": [
      "Enter polynomial power : 30\n",
      "\n",
      "Output : 42185 || Time : 0.0 sec\n"
     ]
    }
   ],
   "source": [
    "main()"
   ]
  },
  {
   "cell_type": "code",
   "execution_count": 12,
   "metadata": {},
   "outputs": [
    {
     "name": "stdout",
     "output_type": "stream",
     "text": [
      "Enter polynomial power : 100\n",
      "\n",
      "Output : 68625 || Time : 0.0 sec\n"
     ]
    }
   ],
   "source": [
    "main()"
   ]
  },
  {
   "cell_type": "code",
   "execution_count": 13,
   "metadata": {},
   "outputs": [
    {
     "name": "stdout",
     "output_type": "stream",
     "text": [
      "Enter polynomial power : 10000\n",
      "\n",
      "Output : 71873 || Time : 0.0 sec\n"
     ]
    }
   ],
   "source": [
    "main()"
   ]
  },
  {
   "cell_type": "code",
   "execution_count": 14,
   "metadata": {},
   "outputs": [
    {
     "name": "stdout",
     "output_type": "stream",
     "text": [
      "Enter polynomial power : 1999999999\n",
      "\n",
      "Output : 43383 || Time : 0.00123 sec\n"
     ]
    }
   ],
   "source": [
    "main()"
   ]
  },
  {
   "cell_type": "code",
   "execution_count": null,
   "metadata": {},
   "outputs": [],
   "source": []
  }
 ],
 "metadata": {
  "kernelspec": {
   "display_name": "Python 3",
   "language": "python",
   "name": "python3"
  },
  "language_info": {
   "codemirror_mode": {
    "name": "ipython",
    "version": 3
   },
   "file_extension": ".py",
   "mimetype": "text/x-python",
   "name": "python",
   "nbconvert_exporter": "python",
   "pygments_lexer": "ipython3",
   "version": "3.7.1"
  }
 },
 "nbformat": 4,
 "nbformat_minor": 2
}
