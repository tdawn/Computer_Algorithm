{
 "cells": [
  {
   "cell_type": "code",
   "execution_count": 5,
   "metadata": {},
   "outputs": [],
   "source": [
    "import time\n",
    "import math\n",
    "\n",
    "def maxSum(A,n):\n",
    "    sum = [0 for x in range(n)]\n",
    "    sum[0] = A[0]\n",
    "    maxsum = -(math.inf)\n",
    "    for i in range(n):\n",
    "        sum[i] = sum[i-1] + A[i]\n",
    "        if sum[i] > maxsum:\n",
    "            maxsum = sum[i]\n",
    "            maxidR = i\n",
    "\n",
    "    maxseq = maxsum\n",
    "    if maxidR == 0:\n",
    "        maxidL = maxidR \n",
    "    else:     \n",
    "        for i in range(maxidR):\n",
    "            if maxseq < maxsum:\n",
    "                maxseq = maxsum\n",
    "                maxidL = i\n",
    "            maxsum = maxsum - A[i]\n",
    "    return(maxidL + 1, maxidR + 1, maxseq)\n",
    "\n",
    "def main():\n",
    "    n = int(input(\"Enter the length of the array : \"))\n",
    "    A = input(\"Enter the array : \")\n",
    "    A = A.split(\" \")\n",
    "    A = [int(A[i]) for i in range(len(A))]\n",
    "    start = time.time()\n",
    "    L, R, result = maxSum(A,n)\n",
    "    end = time.time()\n",
    "    print(\"\\n\" + \"Output : (\" + str(L) + \":\" + str(R) + \") : \" + str(result) + \" || Time : \" + str(round(end-start,5)) + \" sec\")"
   ]
  },
  {
   "cell_type": "code",
   "execution_count": 6,
   "metadata": {
    "scrolled": true
   },
   "outputs": [
    {
     "name": "stdout",
     "output_type": "stream",
     "text": [
      "Enter the length of the array : 8\n",
      "Enter the array : -2 -3 4 -1 -2 1 5 3\n",
      "\n",
      "Output : (3:8) : 10 || Time : 0.0 sec\n"
     ]
    }
   ],
   "source": [
    "main()"
   ]
  },
  {
   "cell_type": "code",
   "execution_count": 7,
   "metadata": {},
   "outputs": [
    {
     "name": "stdout",
     "output_type": "stream",
     "text": [
      "Enter the length of the array : 10\n",
      "Enter the array : 33 36 -73 15 43 -17 36 -28 -1 21\n",
      "\n",
      "Output : (4:7) : 77 || Time : 0.0 sec\n"
     ]
    }
   ],
   "source": [
    "main()"
   ]
  },
  {
   "cell_type": "code",
   "execution_count": 9,
   "metadata": {},
   "outputs": [
    {
     "name": "stdout",
     "output_type": "stream",
     "text": [
      "Enter the length of the array : 30\n",
      "Enter the array : -15 10 16 31 -12 -50 18 -5 34 20 -27 45 23 -42 17 -41 11 -3 1 -8 -41 -49 23 47 1 -1 19 32 2 27\n",
      "\n",
      "Output : (7:13) : 108 || Time : 0.0 sec\n"
     ]
    }
   ],
   "source": [
    "main()"
   ]
  },
  {
   "cell_type": "code",
   "execution_count": 10,
   "metadata": {},
   "outputs": [
    {
     "name": "stdout",
     "output_type": "stream",
     "text": [
      "Enter the length of the array : 100\n",
      "Enter the array : 2 -26 50 13 -15 -7 -11 -48 2 -45 -6 46 -43 40 -4 13 9 21 -30 22 -13 -15 -1 -31 31 -36 0 -3 14 19 -13 13 -29 -30 -1 36 23 -41 -35 42 44 -25 13 -31 -40 7 -12 33 -9 39 -31 -39 17 14 40 -49 -30 30 20 -43 -37 39 36 40 5 -19 1 -47 -19 22 2 -41 -40 14 -24 12 50 44 -14 49 6 -26 32 32 19 12 -3 -17 39 9 -11 -19 45 44 4 31 -16 26 -22 -27\n",
      "\n",
      "Output : (76:98) : 348 || Time : 0.0 sec\n"
     ]
    }
   ],
   "source": [
    "main()"
   ]
  }
 ],
 "metadata": {
  "kernelspec": {
   "display_name": "Python 3",
   "language": "python",
   "name": "python3"
  },
  "language_info": {
   "codemirror_mode": {
    "name": "ipython",
    "version": 3
   },
   "file_extension": ".py",
   "mimetype": "text/x-python",
   "name": "python",
   "nbconvert_exporter": "python",
   "pygments_lexer": "ipython3",
   "version": "3.7.1"
  }
 },
 "nbformat": 4,
 "nbformat_minor": 2
}
