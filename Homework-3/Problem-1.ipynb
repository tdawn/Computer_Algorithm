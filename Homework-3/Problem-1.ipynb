{
 "cells": [
  {
   "cell_type": "code",
   "execution_count": 68,
   "metadata": {},
   "outputs": [],
   "source": [
    "import numpy as np\n",
    "import time\n",
    "\n",
    "def mmult(a,b):\n",
    "    rowa = len(a)\n",
    "    rowb = len(b)\n",
    "    colb = len(b[0])\n",
    "    r = [[0 for x in range(rowa)] for y in range(colb)]\n",
    "    for i in range(rowa):\n",
    "        for j in range(colb):\n",
    "            for k in range(rowb):\n",
    "                r[i][j] = (r[i][j] + (a[i][k] % 65535) * (b[k][j] % 65535)) % 65535\n",
    "    return(r)\n",
    "\n",
    "def countWay(n,m): \n",
    "    A = [[0 for x in range(m)] for y in range(m)] \n",
    "    lenA = len(A)\n",
    "    r = [[0 for x in range(lenA)] for y in range(lenA)]\n",
    "    A[m-1] = [1] * m\n",
    "    r[lenA-1][lenA-1] = 1\n",
    "    for i in (range(m-1)):\n",
    "        A[i][i+1] = 1\n",
    "        r[i][i] = 1\n",
    "    modnm = n % m\n",
    "    divnm = math.floor(n / m)\n",
    "    p = m * divnm\n",
    "    modn = (m + p - 1) % 2\n",
    "    n = math.floor((m + p - 1) / 2)\n",
    "    while True:\n",
    "        if modn == 1:\n",
    "            r = mmult(r,A) \n",
    "        A = mmult(A,A) \n",
    "        modn = n % 2\n",
    "        n = math.floor(n/2)\n",
    "        if n == 0:\n",
    "            r = mmult(r,A) \n",
    "            break\n",
    "    triv = [0 for x in range(lenA)]\n",
    "    triv[lenA-1] = 1\n",
    "    result = np.matmul(r,triv) \n",
    "    return(result[modnm] % 65535)\n",
    "\n",
    "def main():\n",
    "    n = int(input(\"Enter the number of marbles : \"))\n",
    "    m = int(input(\"Enter the maximum number of marbles that Mina can take at the same time : \"))\n",
    "    start = time.time()\n",
    "    result = countWay(n,m)\n",
    "    end = time.time()\n",
    "    print(\"\\n\" + \"Output : \" + str(result) + \" || Time : \" + str(round(end-start,5)) + \" sec\")"
   ]
  },
  {
   "cell_type": "code",
   "execution_count": 69,
   "metadata": {},
   "outputs": [
    {
     "name": "stdout",
     "output_type": "stream",
     "text": [
      "Enter the number of marbles : 4\n",
      "Enter the maximum number of marbles that Mina can take at the same time : 3\n",
      "\n",
      "Output : 7 || Time : 0.0 sec\n"
     ]
    }
   ],
   "source": [
    "main()"
   ]
  },
  {
   "cell_type": "code",
   "execution_count": 70,
   "metadata": {
    "scrolled": false
   },
   "outputs": [
    {
     "name": "stdout",
     "output_type": "stream",
     "text": [
      "Enter the number of marbles : 2000000000\n",
      "Enter the maximum number of marbles that Mina can take at the same time : 2\n",
      "\n",
      "Output : 51916 || Time : 0.0 sec\n"
     ]
    }
   ],
   "source": [
    "main()"
   ]
  }
 ],
 "metadata": {
  "kernelspec": {
   "display_name": "Python 3",
   "language": "python",
   "name": "python3"
  },
  "language_info": {
   "codemirror_mode": {
    "name": "ipython",
    "version": 3
   },
   "file_extension": ".py",
   "mimetype": "text/x-python",
   "name": "python",
   "nbconvert_exporter": "python",
   "pygments_lexer": "ipython3",
   "version": "3.7.1"
  }
 },
 "nbformat": 4,
 "nbformat_minor": 2
}
