{
 "cells": [
  {
   "cell_type": "code",
   "execution_count": 1,
   "metadata": {},
   "outputs": [],
   "source": [
    "import math\n",
    "import time\n",
    "\n",
    "def primes1(n):\n",
    "    n = n + 1\n",
    "    sieve = [True] * (n // 2)\n",
    "    for i in range(3,int(n ** 0.5) + 1,2):\n",
    "        if sieve[i // 2]:\n",
    "            sieve[i * i // 2::i] = [False] * ((n - i * i - 1) // (2 * i) + 1)\n",
    "    return [2] + [2 * i + 1 for i in range(1,n // 2) if sieve[i]]\n",
    "  \n",
    "def primeswing(n):\n",
    "    primev = primes1(n)\n",
    "    lenprime = len(primev)\n",
    "    i = 0\n",
    "    swingv = 1\n",
    "    for prime in primev:\n",
    "        p = 1\n",
    "        q = n\n",
    "        while True:\n",
    "            q = q // prime\n",
    "            if q == 0:\n",
    "                break\n",
    "            if q % 2 == 1:\n",
    "                p = (p * prime) % 65535\n",
    "        i += 1\n",
    "        if p > 1:\n",
    "            swingv = (swingv * p) % 65535\n",
    "    return(swingv)\n",
    "\n",
    "def fact(n):\n",
    "    if n < 2:\n",
    "        return(1)\n",
    "    return((fact(n // 2) ** 2) * primeswing(n))\n",
    "\n",
    "def givingCandies(n):\n",
    "    sum = 0\n",
    "    m = math.ceil((n+1)/2)\n",
    "    a = [0 for x in range(m)]\n",
    "    b = [0 for x in range(m)]\n",
    "    for i in range(m):\n",
    "        if i == 0:\n",
    "            if n % 2 == 1:\n",
    "                a[i] = n - 1\n",
    "            else:\n",
    "                a[i] = n\n",
    "        else:\n",
    "            a[i] = a[i-1] - 2\n",
    "        b[i] = n - a[i]\n",
    "        tempa = a[i]\n",
    "        if a[i] > 0:\n",
    "            tempa = (a[i] / 2) - 1\n",
    "        asq = 2 ** tempa\n",
    "        pos = b[i] + a[i]/2\n",
    "        possq = 2 ** pos\n",
    "        v = asq * possq\n",
    "        combi = (fact(n) / (fact(a[i]) * fact(n - a[i]))) % 65535\n",
    "        vcombi = v * combi\n",
    "        sum = (sum + vcombi) % 65535\n",
    "    return(sum)\n",
    "\n",
    "def main():\n",
    "    n = int(input(\"Enter the number of candies : \"))\n",
    "    start = time.time()\n",
    "    result = givingCandies(n)\n",
    "    end = time.time()\n",
    "    print(\"\\n\" + \"Output : \" + str(result) + \" || Time : \" + str(round(end-start,5)) + \" sec\")"
   ]
  },
  {
   "cell_type": "code",
   "execution_count": 2,
   "metadata": {},
   "outputs": [
    {
     "name": "stdout",
     "output_type": "stream",
     "text": [
      "Enter the number of candies : 1\n",
      "\n",
      "Output : 2.0 || Time : 0.0 sec\n"
     ]
    }
   ],
   "source": [
    "main()"
   ]
  },
  {
   "cell_type": "code",
   "execution_count": 3,
   "metadata": {},
   "outputs": [
    {
     "name": "stdout",
     "output_type": "stream",
     "text": [
      "Enter the number of candies : 2\n",
      "\n",
      "Output : 6.0 || Time : 0.0 sec\n"
     ]
    }
   ],
   "source": [
    "main()"
   ]
  },
  {
   "cell_type": "code",
   "execution_count": 4,
   "metadata": {},
   "outputs": [
    {
     "name": "stdout",
     "output_type": "stream",
     "text": [
      "Enter the number of candies : 3\n",
      "\n",
      "Output : 20.0 || Time : 0.0 sec\n"
     ]
    }
   ],
   "source": [
    "main()"
   ]
  },
  {
   "cell_type": "code",
   "execution_count": 5,
   "metadata": {},
   "outputs": [
    {
     "name": "stdout",
     "output_type": "stream",
     "text": [
      "Enter the number of candies : 4\n",
      "\n",
      "Output : 72.0 || Time : 0.0 sec\n"
     ]
    }
   ],
   "source": [
    "main()"
   ]
  },
  {
   "cell_type": "code",
   "execution_count": 6,
   "metadata": {},
   "outputs": [
    {
     "name": "stdout",
     "output_type": "stream",
     "text": [
      "Enter the number of candies : 5\n",
      "\n",
      "Output : 272.0 || Time : 0.0 sec\n"
     ]
    }
   ],
   "source": [
    "main()"
   ]
  },
  {
   "cell_type": "code",
   "execution_count": 8,
   "metadata": {},
   "outputs": [
    {
     "name": "stdout",
     "output_type": "stream",
     "text": [
      "Enter the number of candies : 6\n",
      "\n",
      "Output : 1056.0 || Time : 0.0 sec\n"
     ]
    }
   ],
   "source": [
    "main()"
   ]
  },
  {
   "cell_type": "code",
   "execution_count": 9,
   "metadata": {},
   "outputs": [
    {
     "name": "stdout",
     "output_type": "stream",
     "text": [
      "Enter the number of candies : 7\n",
      "\n",
      "Output : 4160.0 || Time : 0.0 sec\n"
     ]
    }
   ],
   "source": [
    "main()"
   ]
  },
  {
   "cell_type": "code",
   "execution_count": 10,
   "metadata": {},
   "outputs": [
    {
     "name": "stdout",
     "output_type": "stream",
     "text": [
      "Enter the number of candies : 8\n",
      "\n",
      "Output : 16512.0 || Time : 0.0 sec\n"
     ]
    }
   ],
   "source": [
    "main()"
   ]
  },
  {
   "cell_type": "code",
   "execution_count": 11,
   "metadata": {},
   "outputs": [
    {
     "name": "stdout",
     "output_type": "stream",
     "text": [
      "Enter the number of candies : 9\n",
      "\n",
      "Output : 257.0 || Time : 0.0 sec\n"
     ]
    }
   ],
   "source": [
    "main()"
   ]
  },
  {
   "cell_type": "code",
   "execution_count": 12,
   "metadata": {},
   "outputs": [
    {
     "name": "stdout",
     "output_type": "stream",
     "text": [
      "Enter the number of candies : 10\n",
      "\n",
      "Output : 516.0 || Time : 0.0 sec\n"
     ]
    }
   ],
   "source": [
    "main()"
   ]
  },
  {
   "cell_type": "code",
   "execution_count": 16,
   "metadata": {},
   "outputs": [
    {
     "name": "stdout",
     "output_type": "stream",
     "text": [
      "Enter the number of candies : 108\n",
      "\n",
      "Output : 4096.0 || Time : 0.00803 sec\n"
     ]
    }
   ],
   "source": [
    "main()"
   ]
  }
 ],
 "metadata": {
  "kernelspec": {
   "display_name": "Python 3",
   "language": "python",
   "name": "python3"
  },
  "language_info": {
   "codemirror_mode": {
    "name": "ipython",
    "version": 3
   },
   "file_extension": ".py",
   "mimetype": "text/x-python",
   "name": "python",
   "nbconvert_exporter": "python",
   "pygments_lexer": "ipython3",
   "version": "3.7.1"
  }
 },
 "nbformat": 4,
 "nbformat_minor": 2
}
